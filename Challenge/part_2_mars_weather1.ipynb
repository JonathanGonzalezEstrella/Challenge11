{
 "cells": [
  {
   "cell_type": "code",
   "execution_count": 1,
   "id": "6d923464-5e01-4f6d-83d3-2e52a423b303",
   "metadata": {},
   "outputs": [
    {
     "name": "stdout",
     "output_type": "stream",
     "text": [
      "   id terrestrial_date  sol   ls  month  min_temp  pressure\n",
      "0   2       2012-08-16   10  155      6     -75.0     739.0\n",
      "1  13       2012-08-17   11  156      6     -76.0     740.0\n",
      "2  24       2012-08-18   12  156      6     -76.0     741.0\n",
      "3  35       2012-08-19   13  157      6     -74.0     732.0\n",
      "4  46       2012-08-20   14  157      6     -74.0     740.0\n"
     ]
    }
   ],
   "source": [
    "import pandas as pd\n",
    "\n",
    "# Function to scrape Mars weather data\n",
    "def scrape_mars_weather():\n",
    "    url = 'https://static.bc-edx.com/data/web/mars_facts/temperature.html'\n",
    "    tables = pd.read_html(url)  # Returns a list of all tables found\n",
    "    mars_weather_df = tables[0]  # Assuming the first table is the one we need\n",
    "    \n",
    "    # Rename columns to match the website headings\n",
    "    mars_weather_df.columns = ['id', 'terrestrial_date', 'sol', 'ls', 'month', 'min_temp', 'pressure']\n",
    "    \n",
    "    # Convert data types as necessary, example:\n",
    "    mars_weather_df['terrestrial_date'] = pd.to_datetime(mars_weather_df['terrestrial_date'])\n",
    "    mars_weather_df['sol'] = mars_weather_df['sol'].astype(int)\n",
    "    mars_weather_df['min_temp'] = mars_weather_df['min_temp'].astype(float)\n",
    "    mars_weather_df['pressure'] = mars_weather_df['pressure'].astype(float)\n",
    "    \n",
    "    return mars_weather_df\n",
    "\n",
    "# Scrape Mars weather data and print DataFrame\n",
    "mars_weather = scrape_mars_weather()\n",
    "print(mars_weather.head())\n",
    "\n",
    "# Save DataFrame to CSV\n",
    "mars_weather.to_csv('mars_weather.csv', index=False)"
   ]
  },
  {
   "cell_type": "code",
   "execution_count": null,
   "id": "bf391429-73f0-4810-adda-bf4691f34205",
   "metadata": {},
   "outputs": [],
   "source": []
  }
 ],
 "metadata": {
  "kernelspec": {
   "display_name": "Python 3 (ipykernel)",
   "language": "python",
   "name": "python3"
  },
  "language_info": {
   "codemirror_mode": {
    "name": "ipython",
    "version": 3
   },
   "file_extension": ".py",
   "mimetype": "text/x-python",
   "name": "python",
   "nbconvert_exporter": "python",
   "pygments_lexer": "ipython3",
   "version": "3.11.7"
  }
 },
 "nbformat": 4,
 "nbformat_minor": 5
}
